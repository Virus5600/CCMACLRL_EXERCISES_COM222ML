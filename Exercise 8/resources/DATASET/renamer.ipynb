{
 "cells": [
  {
   "cell_type": "code",
   "execution_count": 1,
   "metadata": {},
   "outputs": [],
   "source": [
    "import os"
   ]
  },
  {
   "cell_type": "markdown",
   "metadata": {},
   "source": [
    "# Get files in directory"
   ]
  },
  {
   "cell_type": "code",
   "execution_count": 2,
   "metadata": {},
   "outputs": [],
   "source": [
    "\n",
    "test = \"Test\"\n",
    "train = \"Train\"\n",
    "new = \"New\""
   ]
  },
  {
   "cell_type": "markdown",
   "metadata": {},
   "source": [
    "# Iterate through the files"
   ]
  },
  {
   "cell_type": "code",
   "execution_count": 3,
   "metadata": {},
   "outputs": [],
   "source": [
    "names = [\"Satch\", \"Montaniel\", \"Ordave\"]"
   ]
  },
  {
   "cell_type": "markdown",
   "metadata": {},
   "source": [
    "## Test Files"
   ]
  },
  {
   "cell_type": "code",
   "execution_count": 4,
   "metadata": {},
   "outputs": [
    {
     "name": "stdout",
     "output_type": "stream",
     "text": [
      "Copy of MontanielTest1.jpg → MontanielTest1.jpg\n",
      "Copy of MontanielTest1g.jpg → MontanielTest2.jpg\n",
      "Copy of MontanielTest2.jpg → MontanielTest3.jpg\n",
      "Copy of MontanielTest2g.jpg → MontanielTest4.jpg\n",
      "Copy of MontanielTest3.jpg → MontanielTest5.jpg\n",
      "Copy of MontanielTest3g.jpg → MontanielTest6.jpg\n",
      "Copy of MontanielTest4.jpg → MontanielTest7.jpg\n",
      "Copy of MontanielTest4g.jpg.jpg → MontanielTest8.jpg\n",
      "Copy of MontanielTest5.jpg → MontanielTest9.jpg\n",
      "Copy of MontanielTest5g.jpg.jpg → MontanielTest10.jpg\n",
      "OrdaveTest0.jpg → OrdaveTest1.jpg\n"
     ]
    },
    {
     "ename": "FileExistsError",
     "evalue": "[WinError 183] Cannot create a file when that file already exists: 'Test/OrdaveTest0.jpg' -> 'Test\\\\OrdaveTest1.jpg'",
     "output_type": "error",
     "traceback": [
      "\u001b[1;31m---------------------------------------------------------------------------\u001b[0m",
      "\u001b[1;31mFileExistsError\u001b[0m                           Traceback (most recent call last)",
      "Cell \u001b[1;32mIn[4], line 16\u001b[0m\n\u001b[0;32m     13\u001b[0m \u001b[38;5;28mprint\u001b[39m(\u001b[38;5;124mf\u001b[39m\u001b[38;5;124m\"\u001b[39m\u001b[38;5;132;01m{\u001b[39;00mfile\u001b[38;5;132;01m}\u001b[39;00m\u001b[38;5;124m → \u001b[39m\u001b[38;5;132;01m{\u001b[39;00mnewName\u001b[38;5;132;01m}\u001b[39;00m\u001b[38;5;124m\"\u001b[39m)\n\u001b[0;32m     14\u001b[0m i[name] \u001b[38;5;241m+\u001b[39m\u001b[38;5;241m=\u001b[39m \u001b[38;5;241m1\u001b[39m\n\u001b[1;32m---> 16\u001b[0m \u001b[43mos\u001b[49m\u001b[38;5;241;43m.\u001b[39;49m\u001b[43mrename\u001b[49m\u001b[43m(\u001b[49m\u001b[38;5;124;43mf\u001b[39;49m\u001b[38;5;124;43m\"\u001b[39;49m\u001b[38;5;132;43;01m{\u001b[39;49;00m\u001b[43mroot\u001b[49m\u001b[38;5;132;43;01m}\u001b[39;49;00m\u001b[38;5;124;43m/\u001b[39;49m\u001b[38;5;132;43;01m{\u001b[39;49;00m\u001b[43mfile\u001b[49m\u001b[38;5;132;43;01m}\u001b[39;49;00m\u001b[38;5;124;43m\"\u001b[39;49m\u001b[43m,\u001b[49m\u001b[43m \u001b[49m\u001b[43mos\u001b[49m\u001b[38;5;241;43m.\u001b[39;49m\u001b[43mpath\u001b[49m\u001b[38;5;241;43m.\u001b[39;49m\u001b[43mjoin\u001b[49m\u001b[43m(\u001b[49m\u001b[43mroot\u001b[49m\u001b[43m,\u001b[49m\u001b[43m \u001b[49m\u001b[43mnewName\u001b[49m\u001b[43m)\u001b[49m\u001b[43m)\u001b[49m\n",
      "\u001b[1;31mFileExistsError\u001b[0m: [WinError 183] Cannot create a file when that file already exists: 'Test/OrdaveTest0.jpg' -> 'Test\\\\OrdaveTest1.jpg'"
     ]
    }
   ],
   "source": [
    "i = {}\n",
    "for name in names:\n",
    "\ti[name] = 1\n",
    "\n",
    "for root, dirs, files in os.walk(test):\n",
    "\tfor file in files:\n",
    "\t\tif file.endswith(\".jpg\"):\n",
    "\n",
    "\t\t\tfor name in names:\n",
    "\t\t\t\tif name in file:\n",
    "\t\t\t\t\tbreak\n",
    "\t\t\tnewName = f\"{name}{root}{i[name]}.jpg\"\n",
    "\t\t\tprint(f\"{file} → {newName}\")\n",
    "\t\t\ti[name] += 1\n",
    "\n",
    "\t\t\tos.rename(f\"{root}/{file}\", os.path.join(root, newName))"
   ]
  },
  {
   "cell_type": "markdown",
   "metadata": {},
   "source": [
    "## Train Files"
   ]
  },
  {
   "cell_type": "code",
   "execution_count": 18,
   "metadata": {},
   "outputs": [
    {
     "name": "stdout",
     "output_type": "stream",
     "text": [
      "SatchTest0.jpg → SatchTrain0.jpg\n",
      "SatchTest1.jpg → SatchTrain1.jpg\n",
      "SatchTest10.jpg → SatchTrain2.jpg\n",
      "SatchTest11.jpg → SatchTrain3.jpg\n",
      "SatchTest12.jpg → SatchTrain4.jpg\n",
      "SatchTest13.jpg → SatchTrain5.jpg\n",
      "SatchTest14.jpg → SatchTrain6.jpg\n",
      "SatchTest15.jpg → SatchTrain7.jpg\n",
      "SatchTest16.jpg → SatchTrain8.jpg\n",
      "SatchTest17.jpg → SatchTrain9.jpg\n",
      "SatchTest18.jpg → SatchTrain10.jpg\n",
      "SatchTest19.jpg → SatchTrain11.jpg\n",
      "SatchTest2.jpg → SatchTrain12.jpg\n",
      "SatchTest20.jpg → SatchTrain13.jpg\n",
      "SatchTest21.jpg → SatchTrain14.jpg\n",
      "SatchTest22.jpg → SatchTrain15.jpg\n",
      "SatchTest23.jpg → SatchTrain16.jpg\n",
      "SatchTest24.jpg → SatchTrain17.jpg\n",
      "SatchTest25.jpg → SatchTrain18.jpg\n",
      "SatchTest26.jpg → SatchTrain19.jpg\n",
      "SatchTest27.jpg → SatchTrain20.jpg\n",
      "SatchTest28.jpg → SatchTrain21.jpg\n",
      "SatchTest29.jpg → SatchTrain22.jpg\n",
      "SatchTest3.jpg → SatchTrain23.jpg\n",
      "SatchTest30.jpg → SatchTrain24.jpg\n",
      "SatchTest31.jpg → SatchTrain25.jpg\n",
      "SatchTest32.jpg → SatchTrain26.jpg\n",
      "SatchTest33.jpg → SatchTrain27.jpg\n",
      "SatchTest34.jpg → SatchTrain28.jpg\n",
      "SatchTest35.jpg → SatchTrain29.jpg\n",
      "SatchTest36.jpg → SatchTrain30.jpg\n",
      "SatchTest37.jpg → SatchTrain31.jpg\n",
      "SatchTest38.jpg → SatchTrain32.jpg\n",
      "SatchTest39.jpg → SatchTrain33.jpg\n",
      "SatchTest4.jpg → SatchTrain34.jpg\n",
      "SatchTest40.jpg → SatchTrain35.jpg\n",
      "SatchTest41.jpg → SatchTrain36.jpg\n",
      "SatchTest42.jpg → SatchTrain37.jpg\n",
      "SatchTest43.jpg → SatchTrain38.jpg\n",
      "SatchTest44.jpg → SatchTrain39.jpg\n",
      "SatchTest45.jpg → SatchTrain40.jpg\n",
      "SatchTest46.jpg → SatchTrain41.jpg\n",
      "SatchTest47.jpg → SatchTrain42.jpg\n",
      "SatchTest48.jpg → SatchTrain43.jpg\n",
      "SatchTest49.jpg → SatchTrain44.jpg\n",
      "SatchTest5.jpg → SatchTrain45.jpg\n",
      "SatchTest6.jpg → SatchTrain46.jpg\n",
      "SatchTest7.jpg → SatchTrain47.jpg\n",
      "SatchTest8.jpg → SatchTrain48.jpg\n",
      "SatchTest9.jpg → SatchTrain49.jpg\n"
     ]
    }
   ],
   "source": [
    "i = {}\n",
    "for name in names:\n",
    "\ti[name] = 1\n",
    "\n",
    "for root, dirs, files in os.walk(train):\n",
    "\tfor file in files:\n",
    "\t\tif file.endswith(\".jpg\"):\n",
    "\n",
    "\t\t\tfor name in names:\n",
    "\t\t\t\tif name in file:\n",
    "\t\t\t\t\tbreak\n",
    "\t\t\tnewName = f\"{name}{root}{i[name]}.jpg\"\n",
    "\t\t\tprint(f\"{file} → {newName}\")\n",
    "\t\t\ti[name] += 1\n",
    "\n",
    "\t\t\tos.rename(f\"{root}/{file}\", os.path.join(root, newName))"
   ]
  },
  {
   "cell_type": "markdown",
   "metadata": {},
   "source": [
    "# New Files"
   ]
  },
  {
   "cell_type": "code",
   "execution_count": 6,
   "metadata": {},
   "outputs": [
    {
     "name": "stdout",
     "output_type": "stream",
     "text": [
      "Satch asd.jpg → SatchNew1.jpg\n",
      "Satch.jpg → SatchNew2.jpg\n",
      "Satchasda.jpg → SatchNew3.jpg\n",
      "Satchasedasd.jpg → SatchNew4.jpg\n"
     ]
    }
   ],
   "source": [
    "i = {}\n",
    "for name in names:\n",
    "\ti[name] = 1\n",
    "\n",
    "for root, dirs, files in os.walk(new):\n",
    "\tfor file in files:\n",
    "\t\tif file.endswith(\".jpg\"):\n",
    "\n",
    "\t\t\tfor name in names:\n",
    "\t\t\t\tif name in file:\n",
    "\t\t\t\t\tbreak\n",
    "\t\t\tnewName = f\"{name}{root}{i[name]}.jpg\"\n",
    "\t\t\tprint(f\"{file} → {newName}\")\n",
    "\t\t\ti[name] += 1\n",
    "\n",
    "\t\t\tos.rename(f\"{root}/{file}\", os.path.join(root, newName))"
   ]
  }
 ],
 "metadata": {
  "kernelspec": {
   "display_name": "com222",
   "language": "python",
   "name": "python3"
  },
  "language_info": {
   "codemirror_mode": {
    "name": "ipython",
    "version": 3
   },
   "file_extension": ".py",
   "mimetype": "text/x-python",
   "name": "python",
   "nbconvert_exporter": "python",
   "pygments_lexer": "ipython3",
   "version": "3.12.4"
  }
 },
 "nbformat": 4,
 "nbformat_minor": 2
}
