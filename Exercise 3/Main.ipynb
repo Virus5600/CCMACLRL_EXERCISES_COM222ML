{
	"cells": [
		{
			"cell_type": "markdown",
			"metadata": {
				"colab_type": "text",
				"id": "view-in-github"
			},
			"source": [
				"<a href=\"https://colab.research.google.com/github/robitussin/CCMACLRL_EXERCISES/blob/main/Exercise3.ipynb\" target=\"_parent\"><img src=\"https://colab.research.google.com/assets/colab-badge.svg\" alt=\"Open In Colab\"/></a>"
			]
		},
		{
			"cell_type": "markdown",
			"metadata": {
				"id": "XhYYx_KOpE5Z"
			},
			"source": [
				"# Exercise 3\n",
				"\n",
				"Create a model using K-Nearest Neigbors to perform classification using the personality dataset.\n",
				"\n",
				"0 -'introvert'\n",
				"\n",
				"1 - 'extrovert'"
			]
		},
		{
			"cell_type": "markdown",
			"metadata": {
				"id": "yvFmoS5VnyZf"
			},
			"source": [
				"## A. Import libraries"
			]
		},
		{
			"cell_type": "code",
			"execution_count": 118,
			"metadata": {},
			"outputs": [
				{
					"name": "stdout",
					"output_type": "stream",
					"text": [
						"Requirement already satisfied: scikit-learn in c:\\users\\virus5600\\miniconda3\\lib\\site-packages (1.5.1)\n",
						"Requirement already satisfied: numpy>=1.19.5 in c:\\users\\virus5600\\miniconda3\\lib\\site-packages (from scikit-learn) (2.0.1)\n",
						"Requirement already satisfied: scipy>=1.6.0 in c:\\users\\virus5600\\miniconda3\\lib\\site-packages (from scikit-learn) (1.14.1)\n",
						"Requirement already satisfied: joblib>=1.2.0 in c:\\users\\virus5600\\miniconda3\\lib\\site-packages (from scikit-learn) (1.4.2)\n",
						"Requirement already satisfied: threadpoolctl>=3.1.0 in c:\\users\\virus5600\\miniconda3\\lib\\site-packages (from scikit-learn) (3.5.0)\n",
						"Note: you may need to restart the kernel to use updated packages.\n"
					]
				}
			],
			"source": [
				"%pip install scikit-learn"
			]
		},
		{
			"cell_type": "code",
			"execution_count": 119,
			"metadata": {
				"id": "VLttupn-Tlcy"
			},
			"outputs": [],
			"source": [
				"import pandas as pd\n",
				"import matplotlib.pyplot as plt\n",
				"\n",
				"from sklearn import metrics\n",
				"from sklearn.neighbors import KNeighborsClassifier\n",
				"from sklearn.model_selection import train_test_split\n",
				"from sklearn.metrics import accuracy_score, precision_score, recall_score, f1_score, confusion_matrix, ConfusionMatrixDisplay"
			]
		},
		{
			"cell_type": "markdown",
			"metadata": {
				"id": "wfADF4zjn15q"
			},
			"source": [
				"## B. Load and understand the dataset"
			]
		},
		{
			"cell_type": "code",
			"execution_count": 158,
			"metadata": {
				"id": "9HfPRONlTzM1"
			},
			"outputs": [
				{
					"data": {
						"text/html": [
							"<div>\n",
							"<style scoped>\n",
							"    .dataframe tbody tr th:only-of-type {\n",
							"        vertical-align: middle;\n",
							"    }\n",
							"\n",
							"    .dataframe tbody tr th {\n",
							"        vertical-align: top;\n",
							"    }\n",
							"\n",
							"    .dataframe thead th {\n",
							"        text-align: right;\n",
							"    }\n",
							"</style>\n",
							"<table border=\"1\" class=\"dataframe\">\n",
							"  <thead>\n",
							"    <tr style=\"text-align: right;\">\n",
							"      <th></th>\n",
							"      <th>Name</th>\n",
							"      <th>Post/Share Frequently?</th>\n",
							"      <th>Active in social media?</th>\n",
							"      <th>Replies to comments?</th>\n",
							"      <th>Number of friends/followers</th>\n",
							"      <th>Personality</th>\n",
							"    </tr>\n",
							"  </thead>\n",
							"  <tbody>\n",
							"    <tr>\n",
							"      <th>0</th>\n",
							"      <td>Mikael Laxa</td>\n",
							"      <td>1</td>\n",
							"      <td>1</td>\n",
							"      <td>1</td>\n",
							"      <td>573</td>\n",
							"      <td>1</td>\n",
							"    </tr>\n",
							"    <tr>\n",
							"      <th>1</th>\n",
							"      <td>Mila Esguerra</td>\n",
							"      <td>0</td>\n",
							"      <td>0</td>\n",
							"      <td>0</td>\n",
							"      <td>305</td>\n",
							"      <td>0</td>\n",
							"    </tr>\n",
							"    <tr>\n",
							"      <th>2</th>\n",
							"      <td>Chloe Sophia</td>\n",
							"      <td>1</td>\n",
							"      <td>1</td>\n",
							"      <td>0</td>\n",
							"      <td>1234</td>\n",
							"      <td>1</td>\n",
							"    </tr>\n",
							"    <tr>\n",
							"      <th>3</th>\n",
							"      <td>Kenji Sugino</td>\n",
							"      <td>0</td>\n",
							"      <td>1</td>\n",
							"      <td>0</td>\n",
							"      <td>445</td>\n",
							"      <td>0</td>\n",
							"    </tr>\n",
							"    <tr>\n",
							"      <th>4</th>\n",
							"      <td>JD Cabreira</td>\n",
							"      <td>1</td>\n",
							"      <td>1</td>\n",
							"      <td>1</td>\n",
							"      <td>2007</td>\n",
							"      <td>1</td>\n",
							"    </tr>\n",
							"  </tbody>\n",
							"</table>\n",
							"</div>"
						],
						"text/plain": [
							"            Name  Post/Share Frequently?  Active in social media?  \\\n",
							"0    Mikael Laxa                       1                        1   \n",
							"1  Mila Esguerra                       0                        0   \n",
							"2   Chloe Sophia                       1                        1   \n",
							"3   Kenji Sugino                       0                        1   \n",
							"4    JD Cabreira                       1                        1   \n",
							"\n",
							"   Replies to comments?  Number of friends/followers  Personality  \n",
							"0                     1                          573            1  \n",
							"1                     0                          305            0  \n",
							"2                     0                         1234            1  \n",
							"3                     0                          445            0  \n",
							"4                     1                         2007            1  "
						]
					},
					"execution_count": 158,
					"metadata": {},
					"output_type": "execute_result"
				}
			],
			"source": [
				"df = pd.read_excel(\"resources/personality.xlsx\")\n",
				"df.head()"
			]
		},
		{
			"cell_type": "markdown",
			"metadata": {
				"id": "yVS-w6Vyp0yS"
			},
			"source": [
				"1. Display the summary of all the features of the dataset using `.info()`"
			]
		},
		{
			"cell_type": "code",
			"execution_count": 159,
			"metadata": {
				"id": "lITZPPruT5An"
			},
			"outputs": [
				{
					"name": "stdout",
					"output_type": "stream",
					"text": [
						"<class 'pandas.core.frame.DataFrame'>\n",
						"RangeIndex: 57 entries, 0 to 56\n",
						"Data columns (total 6 columns):\n",
						" #   Column                       Non-Null Count  Dtype \n",
						"---  ------                       --------------  ----- \n",
						" 0   Name                         57 non-null     object\n",
						" 1   Post/Share Frequently?       57 non-null     int64 \n",
						" 2   Active in social media?      57 non-null     int64 \n",
						" 3   Replies to comments?         57 non-null     int64 \n",
						" 4   Number of friends/followers  57 non-null     int64 \n",
						" 5   Personality                  57 non-null     int64 \n",
						"dtypes: int64(5), object(1)\n",
						"memory usage: 2.8+ KB\n"
					]
				},
				{
					"data": {
						"text/html": [
							"<div>\n",
							"<style scoped>\n",
							"    .dataframe tbody tr th:only-of-type {\n",
							"        vertical-align: middle;\n",
							"    }\n",
							"\n",
							"    .dataframe tbody tr th {\n",
							"        vertical-align: top;\n",
							"    }\n",
							"\n",
							"    .dataframe thead th {\n",
							"        text-align: right;\n",
							"    }\n",
							"</style>\n",
							"<table border=\"1\" class=\"dataframe\">\n",
							"  <thead>\n",
							"    <tr style=\"text-align: right;\">\n",
							"      <th></th>\n",
							"      <th>Post/Share Frequently?</th>\n",
							"      <th>Active in social media?</th>\n",
							"      <th>Replies to comments?</th>\n",
							"      <th>Number of friends/followers</th>\n",
							"      <th>Personality</th>\n",
							"    </tr>\n",
							"  </thead>\n",
							"  <tbody>\n",
							"    <tr>\n",
							"      <th>count</th>\n",
							"      <td>57.000000</td>\n",
							"      <td>57.000000</td>\n",
							"      <td>57.000000</td>\n",
							"      <td>57.000000</td>\n",
							"      <td>57.00000</td>\n",
							"    </tr>\n",
							"    <tr>\n",
							"      <th>mean</th>\n",
							"      <td>0.614035</td>\n",
							"      <td>0.578947</td>\n",
							"      <td>0.385965</td>\n",
							"      <td>1381.789474</td>\n",
							"      <td>0.54386</td>\n",
							"    </tr>\n",
							"    <tr>\n",
							"      <th>std</th>\n",
							"      <td>0.491150</td>\n",
							"      <td>0.498117</td>\n",
							"      <td>0.491150</td>\n",
							"      <td>1139.196831</td>\n",
							"      <td>0.50250</td>\n",
							"    </tr>\n",
							"    <tr>\n",
							"      <th>min</th>\n",
							"      <td>0.000000</td>\n",
							"      <td>0.000000</td>\n",
							"      <td>0.000000</td>\n",
							"      <td>59.000000</td>\n",
							"      <td>0.00000</td>\n",
							"    </tr>\n",
							"    <tr>\n",
							"      <th>25%</th>\n",
							"      <td>0.000000</td>\n",
							"      <td>0.000000</td>\n",
							"      <td>0.000000</td>\n",
							"      <td>504.000000</td>\n",
							"      <td>0.00000</td>\n",
							"    </tr>\n",
							"    <tr>\n",
							"      <th>50%</th>\n",
							"      <td>1.000000</td>\n",
							"      <td>1.000000</td>\n",
							"      <td>0.000000</td>\n",
							"      <td>1163.000000</td>\n",
							"      <td>1.00000</td>\n",
							"    </tr>\n",
							"    <tr>\n",
							"      <th>75%</th>\n",
							"      <td>1.000000</td>\n",
							"      <td>1.000000</td>\n",
							"      <td>1.000000</td>\n",
							"      <td>1944.000000</td>\n",
							"      <td>1.00000</td>\n",
							"    </tr>\n",
							"    <tr>\n",
							"      <th>max</th>\n",
							"      <td>1.000000</td>\n",
							"      <td>1.000000</td>\n",
							"      <td>1.000000</td>\n",
							"      <td>5000.000000</td>\n",
							"      <td>1.00000</td>\n",
							"    </tr>\n",
							"  </tbody>\n",
							"</table>\n",
							"</div>"
						],
						"text/plain": [
							"       Post/Share Frequently?  Active in social media?  Replies to comments?  \\\n",
							"count               57.000000                57.000000             57.000000   \n",
							"mean                 0.614035                 0.578947              0.385965   \n",
							"std                  0.491150                 0.498117              0.491150   \n",
							"min                  0.000000                 0.000000              0.000000   \n",
							"25%                  0.000000                 0.000000              0.000000   \n",
							"50%                  1.000000                 1.000000              0.000000   \n",
							"75%                  1.000000                 1.000000              1.000000   \n",
							"max                  1.000000                 1.000000              1.000000   \n",
							"\n",
							"       Number of friends/followers  Personality  \n",
							"count                    57.000000     57.00000  \n",
							"mean                   1381.789474      0.54386  \n",
							"std                    1139.196831      0.50250  \n",
							"min                      59.000000      0.00000  \n",
							"25%                     504.000000      0.00000  \n",
							"50%                    1163.000000      1.00000  \n",
							"75%                    1944.000000      1.00000  \n",
							"max                    5000.000000      1.00000  "
						]
					},
					"execution_count": 159,
					"metadata": {},
					"output_type": "execute_result"
				}
			],
			"source": [
				"df.info()\n",
				"df.describe()"
			]
		},
		{
			"cell_type": "markdown",
			"metadata": {
				"id": "KgW0AJJgqlxA"
			},
			"source": [
				"2. Display the total number of samples from each label using `.value_counts()`"
			]
		},
		{
			"cell_type": "code",
			"execution_count": 160,
			"metadata": {
				"id": "S3R58V7uqkyr"
			},
			"outputs": [
				{
					"name": "stdout",
					"output_type": "stream",
					"text": [
						"Name: 57\n",
						"Post/Share Frequently?: 2\n",
						"Active in social media?: 2\n",
						"Replies to comments?: 2\n",
						"Number of friends/followers: 56\n",
						"Personality: 2\n"
					]
				}
			],
			"source": [
				"df[\"Personality\"].value_counts()\n",
				"\n",
				"for column in df.columns:\n",
				"\tprint(f\"{column}: {df[column].value_counts().count()}\")"
			]
		},
		{
			"cell_type": "markdown",
			"metadata": {
				"id": "VFREr8J_oW0k"
			},
			"source": [
				"## C. Split the dataset into training and test set"
			]
		},
		{
			"cell_type": "markdown",
			"metadata": {
				"id": "cVRjywv5q_x5"
			},
			"source": [
				"3. Convert the features into an numpy array using `.values()` and store it in a variable \"X\""
			]
		},
		{
			"cell_type": "code",
			"execution_count": 161,
			"metadata": {
				"id": "jXLzLDjuVcgI"
			},
			"outputs": [
				{
					"name": "stdout",
					"output_type": "stream",
					"text": [
						"[[   1    1    1  573]\n",
						" [   0    0    0  305]\n",
						" [   1    1    0 1234]\n",
						" [   0    1    0  445]\n",
						" [   1    1    1 2007]\n",
						" [   0    0    0  865]\n",
						" [   1    1    0 2925]\n",
						" [   0    0    1 2100]\n",
						" [   1    1    1 1874]\n",
						" [   1    1    1 1944]\n",
						" [   1    1    0  504]\n",
						" [   0    0    0  397]\n",
						" [   1    1    0 2537]\n",
						" [   1    1    0  431]\n",
						" [   1    0    1 1260]\n",
						" [   1    1    1 1604]\n",
						" [   0    0    0 1463]\n",
						" [   1    0    0 1447]\n",
						" [   0    0    0 1902]\n",
						" [   0    0    0 1905]\n",
						" [   0    0    0  107]\n",
						" [   1    0    1  235]\n",
						" [   0    0    0  856]\n",
						" [   1    0    0 1201]\n",
						" [   1    1    0 1933]\n",
						" [   1    1    0  789]\n",
						" [   0    1    1 1280]\n",
						" [   0    0    0 1163]\n",
						" [   1    1    1 5000]\n",
						" [   1    1    1 2275]\n",
						" [   1    1    1 3541]\n",
						" [   1    1    0  991]\n",
						" [   1    1    1 2174]\n",
						" [   1    1    1  989]\n",
						" [   1    1    0 1239]\n",
						" [   1    1    0 2363]\n",
						" [   1    1    1 4976]\n",
						" [   1    1    1 1201]\n",
						" [   1    1    0  705]\n",
						" [   0    0    0  935]\n",
						" [   1    0    0 1999]\n",
						" [   1    1    0  716]\n",
						" [   1    0    1  300]\n",
						" [   1    1    1 2409]\n",
						" [   1    1    1 3066]\n",
						" [   1    1    0 1030]\n",
						" [   0    0    1  560]\n",
						" [   1    1    0 1027]\n",
						" [   1    1    1 3840]\n",
						" [   0    0    1  288]\n",
						" [   0    0    0   90]\n",
						" [   0    0    0  220]\n",
						" [   0    1    0  340]\n",
						" [   0    0    0   63]\n",
						" [   0    0    0   59]\n",
						" [   0    0    0  267]\n",
						" [   0    1    0  813]]\n"
					]
				}
			],
			"source": [
				"x = df.drop(columns=[\"Name\", \"Personality\"]).values\n",
				"print(x)"
			]
		},
		{
			"cell_type": "markdown",
			"metadata": {
				"id": "zw8QxWNVrjIq"
			},
			"source": [
				"4. Convert the labels into an numpy array using `.values()` and store it in a variable \"y\""
			]
		},
		{
			"cell_type": "code",
			"execution_count": 162,
			"metadata": {
				"id": "R9L1WVXpVsBi"
			},
			"outputs": [
				{
					"name": "stdout",
					"output_type": "stream",
					"text": [
						"[1 0 1 0 1 0 1 0 1 1 0 0 1 0 1 1 0 0 0 0 0 1 0 0 1 1 1 0 1 1 1 1 1 1 1 1 1\n",
						" 1 1 0 0 1 1 1 1 1 0 1 1 0 0 0 0 0 0 0 0]\n"
					]
				}
			],
			"source": [
				"y = df[\"Personality\"].values\n",
				"print(y)"
			]
		},
		{
			"cell_type": "markdown",
			"metadata": {
				"id": "1PnnfSX_ru6a"
			},
			"source": [
				"5. Use `train_test_split()` to split the data.\n",
				"\n",
				"- Declare a variable `X_train` that will hold the training data\n",
				"- Declare a variable `X_test` that will hold the test data\n",
				"- Declare a variable `y_train` that will hold the label of the training data\n",
				"- Declare a variable `y_test` that will hold the label of the test data\n"
			]
		},
		{
			"cell_type": "code",
			"execution_count": 163,
			"metadata": {
				"id": "gzDeHxnVWXk8"
			},
			"outputs": [
				{
					"name": "stdout",
					"output_type": "stream",
					"text": [
						"(45, 4)\n",
						"(45,)\n",
						"(12, 4)\n",
						"(12,)\n"
					]
				}
			],
			"source": [
				"X_train, X_test, y_train, y_test = train_test_split(x, y, test_size=0.2, random_state=42)\n",
				"\n",
				"print(X_train.shape)\n",
				"print(y_train.shape)\n",
				"print(X_test.shape)\n",
				"print(y_test.shape)"
			]
		},
		{
			"cell_type": "code",
			"execution_count": 164,
			"metadata": {},
			"outputs": [
				{
					"data": {
						"text/plain": [
							"22.5"
						]
					},
					"execution_count": 164,
					"metadata": {},
					"output_type": "execute_result"
				}
			],
			"source": [
				"len(X_train) / 2"
			]
		},
		{
			"cell_type": "markdown",
			"metadata": {
				"id": "IiJE-aYIocKX"
			},
			"source": [
				"## D. Create the model"
			]
		},
		{
			"cell_type": "markdown",
			"metadata": {
				"id": "u71kVVeMosWD"
			},
			"source": [
				"6. Use KNN as a classifier by using `KNeighborsClassifier()`"
			]
		},
		{
			"cell_type": "code",
			"execution_count": 177,
			"metadata": {
				"id": "49H5F2P-WymH"
			},
			"outputs": [
				{
					"data": {
						"image/png": "[encoded data removed]",
						"text/plain": [
							"<Figure size 640x480 with 1 Axes>"
						]
					},
					"metadata": {},
					"output_type": "display_data"
				},
				{
					"name": "stdout",
					"output_type": "stream",
					"text": [
						"Highest accuracy: 0.9166666666666666\n",
						"K value: 1\n"
					]
				}
			],
			"source": [
				"train_data_len = len(df.values) / 2\n",
				"k_range = list(range(1, int(train_data_len) + 1))\n",
				"scores = []\n",
				"\n",
				"for k in k_range:\n",
				"\tknn = KNeighborsClassifier(n_neighbors=k)\n",
				"\n",
				"\tknn.fit(X_train, y_train)\n",
				"\ty_pred = knn.predict(X_test)\n",
				"\tscores.append(metrics.accuracy_score(y_test, y_pred))\n",
				"\n",
				"plt.plot(k_range, scores)\n",
				"plt.xlabel(\"Value of K for KNN\")\n",
				"plt.ylabel(\"Testing Accuracy\")\n",
				"plt.title(\"Accuracy Score for Values of K of K-Nearest-Neighbors\")\n",
				"plt.show()\n",
				"\n",
				"highest_k = scores.index(max(scores)) + 1\n",
				"\n",
				"print(f\"Highest accuracy: {max(scores)}\")\n",
				"print(f\"K value: {highest_k}\")"
			]
		},
		{
			"cell_type": "code",
			"execution_count": 197,
			"metadata": {},
			"outputs": [],
			"source": [
				"knn = KNeighborsClassifier(n_neighbors=20)"
			]
		},
		{
			"cell_type": "markdown",
			"metadata": {
				"id": "J2aCQkTqou8x"
			},
			"source": [
				"7. Train the model using the `.fit()`"
			]
		},
		{
			"cell_type": "code",
			"execution_count": 198,
			"metadata": {
				"id": "jQREIyAfXEwf"
			},
			"outputs": [
				{
					"data": {
						"text/html": [
							"<style>#sk-container-id-8 {\n",
							"  /* Definition of color scheme common for light and dark mode */\n",
							"  --sklearn-color-text: black;\n",
							"  --sklearn-color-line: gray;\n",
							"  /* Definition of color scheme for unfitted estimators */\n",
							"  --sklearn-color-unfitted-level-0: #fff5e6;\n",
							"  --sklearn-color-unfitted-level-1: #f6e4d2;\n",
							"  --sklearn-color-unfitted-level-2: #ffe0b3;\n",
							"  --sklearn-color-unfitted-level-3: chocolate;\n",
							"  /* Definition of color scheme for fitted estimators */\n",
							"  --sklearn-color-fitted-level-0: #f0f8ff;\n",
							"  --sklearn-color-fitted-level-1: #d4ebff;\n",
							"  --sklearn-color-fitted-level-2: #b3dbfd;\n",
							"  --sklearn-color-fitted-level-3: cornflowerblue;\n",
							"\n",
							"  /* Specific color for light theme */\n",
							"  --sklearn-color-text-on-default-background: var(--sg-text-color, var(--theme-code-foreground, var(--jp-content-font-color1, black)));\n",
							"  --sklearn-color-background: var(--sg-background-color, var(--theme-background, var(--jp-layout-color0, white)));\n",
							"  --sklearn-color-border-box: var(--sg-text-color, var(--theme-code-foreground, var(--jp-content-font-color1, black)));\n",
							"  --sklearn-color-icon: #696969;\n",
							"\n",
							"  @media (prefers-color-scheme: dark) {\n",
							"    /* Redefinition of color scheme for dark theme */\n",
							"    --sklearn-color-text-on-default-background: var(--sg-text-color, var(--theme-code-foreground, var(--jp-content-font-color1, white)));\n",
							"    --sklearn-color-background: var(--sg-background-color, var(--theme-background, var(--jp-layout-color0, #111)));\n",
							"    --sklearn-color-border-box: var(--sg-text-color, var(--theme-code-foreground, var(--jp-content-font-color1, white)));\n",
							"    --sklearn-color-icon: #878787;\n",
							"  }\n",
							"}\n",
							"\n",
							"#sk-container-id-8 {\n",
							"  color: var(--sklearn-color-text);\n",
							"}\n",
							"\n",
							"#sk-container-id-8 pre {\n",
							"  padding: 0;\n",
							"}\n",
							"\n",
							"#sk-container-id-8 input.sk-hidden--visually {\n",
							"  border: 0;\n",
							"  clip: rect(1px 1px 1px 1px);\n",
							"  clip: rect(1px, 1px, 1px, 1px);\n",
							"  height: 1px;\n",
							"  margin: -1px;\n",
							"  overflow: hidden;\n",
							"  padding: 0;\n",
							"  position: absolute;\n",
							"  width: 1px;\n",
							"}\n",
							"\n",
							"#sk-container-id-8 div.sk-dashed-wrapped {\n",
							"  border: 1px dashed var(--sklearn-color-line);\n",
							"  margin: 0 0.4em 0.5em 0.4em;\n",
							"  box-sizing: border-box;\n",
							"  padding-bottom: 0.4em;\n",
							"  background-color: var(--sklearn-color-background);\n",
							"}\n",
							"\n",
							"#sk-container-id-8 div.sk-container {\n",
							"  /* jupyter's `normalize.less` sets `[hidden] { display: none; }`\n",
							"     but bootstrap.min.css set `[hidden] { display: none !important; }`\n",
							"     so we also need the `!important` here to be able to override the\n",
							"     default hidden behavior on the sphinx rendered scikit-learn.org.\n",
							"     See: https://github.com/scikit-learn/scikit-learn/issues/21755 */\n",
							"  display: inline-block !important;\n",
							"  position: relative;\n",
							"}\n",
							"\n",
							"#sk-container-id-8 div.sk-text-repr-fallback {\n",
							"  display: none;\n",
							"}\n",
							"\n",
							"div.sk-parallel-item,\n",
							"div.sk-serial,\n",
							"div.sk-item {\n",
							"  /* draw centered vertical line to link estimators */\n",
							"  background-image: linear-gradient(var(--sklearn-color-text-on-default-background), var(--sklearn-color-text-on-default-background));\n",
							"  background-size: 2px 100%;\n",
							"  background-repeat: no-repeat;\n",
							"  background-position: center center;\n",
							"}\n",
							"\n",
							"/* Parallel-specific style estimator block */\n",
							"\n",
							"#sk-container-id-8 div.sk-parallel-item::after {\n",
							"  content: \"\";\n",
							"  width: 100%;\n",
							"  border-bottom: 2px solid var(--sklearn-color-text-on-default-background);\n",
							"  flex-grow: 1;\n",
							"}\n",
							"\n",
							"#sk-container-id-8 div.sk-parallel {\n",
							"  display: flex;\n",
							"  align-items: stretch;\n",
							"  justify-content: center;\n",
							"  background-color: var(--sklearn-color-background);\n",
							"  position: relative;\n",
							"}\n",
							"\n",
							"#sk-container-id-8 div.sk-parallel-item {\n",
							"  display: flex;\n",
							"  flex-direction: column;\n",
							"}\n",
							"\n",
							"#sk-container-id-8 div.sk-parallel-item:first-child::after {\n",
							"  align-self: flex-end;\n",
							"  width: 50%;\n",
							"}\n",
							"\n",
							"#sk-container-id-8 div.sk-parallel-item:last-child::after {\n",
							"  align-self: flex-start;\n",
							"  width: 50%;\n",
							"}\n",
							"\n",
							"#sk-container-id-8 div.sk-parallel-item:only-child::after {\n",
							"  width: 0;\n",
							"}\n",
							"\n",
							"/* Serial-specific style estimator block */\n",
							"\n",
							"#sk-container-id-8 div.sk-serial {\n",
							"  display: flex;\n",
							"  flex-direction: column;\n",
							"  align-items: center;\n",
							"  background-color: var(--sklearn-color-background);\n",
							"  padding-right: 1em;\n",
							"  padding-left: 1em;\n",
							"}\n",
							"\n",
							"\n",
							"/* Toggleable style: style used for estimator/Pipeline/ColumnTransformer box that is\n",
							"clickable and can be expanded/collapsed.\n",
							"- Pipeline and ColumnTransformer use this feature and define the default style\n",
							"- Estimators will overwrite some part of the style using the `sk-estimator` class\n",
							"*/\n",
							"\n",
							"/* Pipeline and ColumnTransformer style (default) */\n",
							"\n",
							"#sk-container-id-8 div.sk-toggleable {\n",
							"  /* Default theme specific background. It is overwritten whether we have a\n",
							"  specific estimator or a Pipeline/ColumnTransformer */\n",
							"  background-color: var(--sklearn-color-background);\n",
							"}\n",
							"\n",
							"/* Toggleable label */\n",
							"#sk-container-id-8 label.sk-toggleable__label {\n",
							"  cursor: pointer;\n",
							"  display: block;\n",
							"  width: 100%;\n",
							"  margin-bottom: 0;\n",
							"  padding: 0.5em;\n",
							"  box-sizing: border-box;\n",
							"  text-align: center;\n",
							"}\n",
							"\n",
							"#sk-container-id-8 label.sk-toggleable__label-arrow:before {\n",
							"  /* Arrow on the left of the label */\n",
							"  content: \"▸\";\n",
							"  float: left;\n",
							"  margin-right: 0.25em;\n",
							"  color: var(--sklearn-color-icon);\n",
							"}\n",
							"\n",
							"#sk-container-id-8 label.sk-toggleable__label-arrow:hover:before {\n",
							"  color: var(--sklearn-color-text);\n",
							"}\n",
							"\n",
							"/* Toggleable content - dropdown */\n",
							"\n",
							"#sk-container-id-8 div.sk-toggleable__content {\n",
							"  max-height: 0;\n",
							"  max-width: 0;\n",
							"  overflow: hidden;\n",
							"  text-align: left;\n",
							"  /* unfitted */\n",
							"  background-color: var(--sklearn-color-unfitted-level-0);\n",
							"}\n",
							"\n",
							"#sk-container-id-8 div.sk-toggleable__content.fitted {\n",
							"  /* fitted */\n",
							"  background-color: var(--sklearn-color-fitted-level-0);\n",
							"}\n",
							"\n",
							"#sk-container-id-8 div.sk-toggleable__content pre {\n",
							"  margin: 0.2em;\n",
							"  border-radius: 0.25em;\n",
							"  color: var(--sklearn-color-text);\n",
							"  /* unfitted */\n",
							"  background-color: var(--sklearn-color-unfitted-level-0);\n",
							"}\n",
							"\n",
							"#sk-container-id-8 div.sk-toggleable__content.fitted pre {\n",
							"  /* unfitted */\n",
							"  background-color: var(--sklearn-color-fitted-level-0);\n",
							"}\n",
							"\n",
							"#sk-container-id-8 input.sk-toggleable__control:checked~div.sk-toggleable__content {\n",
							"  /* Expand drop-down */\n",
							"  max-height: 200px;\n",
							"  max-width: 100%;\n",
							"  overflow: auto;\n",
							"}\n",
							"\n",
							"#sk-container-id-8 input.sk-toggleable__control:checked~label.sk-toggleable__label-arrow:before {\n",
							"  content: \"▾\";\n",
							"}\n",
							"\n",
							"/* Pipeline/ColumnTransformer-specific style */\n",
							"\n",
							"#sk-container-id-8 div.sk-label input.sk-toggleable__control:checked~label.sk-toggleable__label {\n",
							"  color: var(--sklearn-color-text);\n",
							"  background-color: var(--sklearn-color-unfitted-level-2);\n",
							"}\n",
							"\n",
							"#sk-container-id-8 div.sk-label.fitted input.sk-toggleable__control:checked~label.sk-toggleable__label {\n",
							"  background-color: var(--sklearn-color-fitted-level-2);\n",
							"}\n",
							"\n",
							"/* Estimator-specific style */\n",
							"\n",
							"/* Colorize estimator box */\n",
							"#sk-container-id-8 div.sk-estimator input.sk-toggleable__control:checked~label.sk-toggleable__label {\n",
							"  /* unfitted */\n",
							"  background-color: var(--sklearn-color-unfitted-level-2);\n",
							"}\n",
							"\n",
							"#sk-container-id-8 div.sk-estimator.fitted input.sk-toggleable__control:checked~label.sk-toggleable__label {\n",
							"  /* fitted */\n",
							"  background-color: var(--sklearn-color-fitted-level-2);\n",
							"}\n",
							"\n",
							"#sk-container-id-8 div.sk-label label.sk-toggleable__label,\n",
							"#sk-container-id-8 div.sk-label label {\n",
							"  /* The background is the default theme color */\n",
							"  color: var(--sklearn-color-text-on-default-background);\n",
							"}\n",
							"\n",
							"/* On hover, darken the color of the background */\n",
							"#sk-container-id-8 div.sk-label:hover label.sk-toggleable__label {\n",
							"  color: var(--sklearn-color-text);\n",
							"  background-color: var(--sklearn-color-unfitted-level-2);\n",
							"}\n",
							"\n",
							"/* Label box, darken color on hover, fitted */\n",
							"#sk-container-id-8 div.sk-label.fitted:hover label.sk-toggleable__label.fitted {\n",
							"  color: var(--sklearn-color-text);\n",
							"  background-color: var(--sklearn-color-fitted-level-2);\n",
							"}\n",
							"\n",
							"/* Estimator label */\n",
							"\n",
							"#sk-container-id-8 div.sk-label label {\n",
							"  font-family: monospace;\n",
							"  font-weight: bold;\n",
							"  display: inline-block;\n",
							"  line-height: 1.2em;\n",
							"}\n",
							"\n",
							"#sk-container-id-8 div.sk-label-container {\n",
							"  text-align: center;\n",
							"}\n",
							"\n",
							"/* Estimator-specific */\n",
							"#sk-container-id-8 div.sk-estimator {\n",
							"  font-family: monospace;\n",
							"  border: 1px dotted var(--sklearn-color-border-box);\n",
							"  border-radius: 0.25em;\n",
							"  box-sizing: border-box;\n",
							"  margin-bottom: 0.5em;\n",
							"  /* unfitted */\n",
							"  background-color: var(--sklearn-color-unfitted-level-0);\n",
							"}\n",
							"\n",
							"#sk-container-id-8 div.sk-estimator.fitted {\n",
							"  /* fitted */\n",
							"  background-color: var(--sklearn-color-fitted-level-0);\n",
							"}\n",
							"\n",
							"/* on hover */\n",
							"#sk-container-id-8 div.sk-estimator:hover {\n",
							"  /* unfitted */\n",
							"  background-color: var(--sklearn-color-unfitted-level-2);\n",
							"}\n",
							"\n",
							"#sk-container-id-8 div.sk-estimator.fitted:hover {\n",
							"  /* fitted */\n",
							"  background-color: var(--sklearn-color-fitted-level-2);\n",
							"}\n",
							"\n",
							"/* Specification for estimator info (e.g. \"i\" and \"?\") */\n",
							"\n",
							"/* Common style for \"i\" and \"?\" */\n",
							"\n",
							".sk-estimator-doc-link,\n",
							"a:link.sk-estimator-doc-link,\n",
							"a:visited.sk-estimator-doc-link {\n",
							"  float: right;\n",
							"  font-size: smaller;\n",
							"  line-height: 1em;\n",
							"  font-family: monospace;\n",
							"  background-color: var(--sklearn-color-background);\n",
							"  border-radius: 1em;\n",
							"  height: 1em;\n",
							"  width: 1em;\n",
							"  text-decoration: none !important;\n",
							"  margin-left: 1ex;\n",
							"  /* unfitted */\n",
							"  border: var(--sklearn-color-unfitted-level-1) 1pt solid;\n",
							"  color: var(--sklearn-color-unfitted-level-1);\n",
							"}\n",
							"\n",
							".sk-estimator-doc-link.fitted,\n",
							"a:link.sk-estimator-doc-link.fitted,\n",
							"a:visited.sk-estimator-doc-link.fitted {\n",
							"  /* fitted */\n",
							"  border: var(--sklearn-color-fitted-level-1) 1pt solid;\n",
							"  color: var(--sklearn-color-fitted-level-1);\n",
							"}\n",
							"\n",
							"/* On hover */\n",
							"div.sk-estimator:hover .sk-estimator-doc-link:hover,\n",
							".sk-estimator-doc-link:hover,\n",
							"div.sk-label-container:hover .sk-estimator-doc-link:hover,\n",
							".sk-estimator-doc-link:hover {\n",
							"  /* unfitted */\n",
							"  background-color: var(--sklearn-color-unfitted-level-3);\n",
							"  color: var(--sklearn-color-background);\n",
							"  text-decoration: none;\n",
							"}\n",
							"\n",
							"div.sk-estimator.fitted:hover .sk-estimator-doc-link.fitted:hover,\n",
							".sk-estimator-doc-link.fitted:hover,\n",
							"div.sk-label-container:hover .sk-estimator-doc-link.fitted:hover,\n",
							".sk-estimator-doc-link.fitted:hover {\n",
							"  /* fitted */\n",
							"  background-color: var(--sklearn-color-fitted-level-3);\n",
							"  color: var(--sklearn-color-background);\n",
							"  text-decoration: none;\n",
							"}\n",
							"\n",
							"/* Span, style for the box shown on hovering the info icon */\n",
							".sk-estimator-doc-link span {\n",
							"  display: none;\n",
							"  z-index: 9999;\n",
							"  position: relative;\n",
							"  font-weight: normal;\n",
							"  right: .2ex;\n",
							"  padding: .5ex;\n",
							"  margin: .5ex;\n",
							"  width: min-content;\n",
							"  min-width: 20ex;\n",
							"  max-width: 50ex;\n",
							"  color: var(--sklearn-color-text);\n",
							"  box-shadow: 2pt 2pt 4pt #999;\n",
							"  /* unfitted */\n",
							"  background: var(--sklearn-color-unfitted-level-0);\n",
							"  border: .5pt solid var(--sklearn-color-unfitted-level-3);\n",
							"}\n",
							"\n",
							".sk-estimator-doc-link.fitted span {\n",
							"  /* fitted */\n",
							"  background: var(--sklearn-color-fitted-level-0);\n",
							"  border: var(--sklearn-color-fitted-level-3);\n",
							"}\n",
							"\n",
							".sk-estimator-doc-link:hover span {\n",
							"  display: block;\n",
							"}\n",
							"\n",
							"/* \"?\"-specific style due to the `<a>` HTML tag */\n",
							"\n",
							"#sk-container-id-8 a.estimator_doc_link {\n",
							"  float: right;\n",
							"  font-size: 1rem;\n",
							"  line-height: 1em;\n",
							"  font-family: monospace;\n",
							"  background-color: var(--sklearn-color-background);\n",
							"  border-radius: 1rem;\n",
							"  height: 1rem;\n",
							"  width: 1rem;\n",
							"  text-decoration: none;\n",
							"  /* unfitted */\n",
							"  color: var(--sklearn-color-unfitted-level-1);\n",
							"  border: var(--sklearn-color-unfitted-level-1) 1pt solid;\n",
							"}\n",
							"\n",
							"#sk-container-id-8 a.estimator_doc_link.fitted {\n",
							"  /* fitted */\n",
							"  border: var(--sklearn-color-fitted-level-1) 1pt solid;\n",
							"  color: var(--sklearn-color-fitted-level-1);\n",
							"}\n",
							"\n",
							"/* On hover */\n",
							"#sk-container-id-8 a.estimator_doc_link:hover {\n",
							"  /* unfitted */\n",
							"  background-color: var(--sklearn-color-unfitted-level-3);\n",
							"  color: var(--sklearn-color-background);\n",
							"  text-decoration: none;\n",
							"}\n",
							"\n",
							"#sk-container-id-8 a.estimator_doc_link.fitted:hover {\n",
							"  /* fitted */\n",
							"  background-color: var(--sklearn-color-fitted-level-3);\n",
							"}\n",
							"</style><div id=\"sk-container-id-8\" class=\"sk-top-container\"><div class=\"sk-text-repr-fallback\"><pre>KNeighborsClassifier(n_neighbors=20)</pre><b>In a Jupyter environment, please rerun this cell to show the HTML representation or trust the notebook. <br />On GitHub, the HTML representation is unable to render, please try loading this page with nbviewer.org.</b></div><div class=\"sk-container\" hidden><div class=\"sk-item\"><div class=\"sk-estimator fitted sk-toggleable\"><input class=\"sk-toggleable__control sk-hidden--visually\" id=\"sk-estimator-id-8\" type=\"checkbox\" checked><label for=\"sk-estimator-id-8\" class=\"sk-toggleable__label fitted sk-toggleable__label-arrow fitted\">&nbsp;&nbsp;KNeighborsClassifier<a class=\"sk-estimator-doc-link fitted\" rel=\"noreferrer\" target=\"_blank\" href=\"https://scikit-learn.org/1.5/modules/generated/sklearn.neighbors.KNeighborsClassifier.html\">?<span>Documentation for KNeighborsClassifier</span></a><span class=\"sk-estimator-doc-link fitted\">i<span>Fitted</span></span></label><div class=\"sk-toggleable__content fitted\"><pre>KNeighborsClassifier(n_neighbors=20)</pre></div> </div></div></div></div>"
						],
						"text/plain": [
							"KNeighborsClassifier(n_neighbors=20)"
						]
					},
					"execution_count": 198,
					"metadata": {},
					"output_type": "execute_result"
				}
			],
			"source": [
				"knn.fit(X_train, y_train)"
			]
		},
		{
			"cell_type": "markdown",
			"metadata": {
				"id": "KLXaUqqto2cu"
			},
			"source": [
				"8. Test the model using the `.predict()`"
			]
		},
		{
			"cell_type": "code",
			"execution_count": 199,
			"metadata": {
				"id": "a5xBSYn4XMPf"
			},
			"outputs": [
				{
					"name": "stdout",
					"output_type": "stream",
					"text": [
						"[[   1    1    1  573]\n",
						" [   0    0    0  865]\n",
						" [   1    1    1 3541]\n",
						" [   1    1    0  431]\n",
						" [   1    1    0 1239]\n",
						" [   0    0    0  267]\n",
						" [   0    0    0 1163]\n",
						" [   1    1    0  991]\n",
						" [   1    1    0 1030]\n",
						" [   1    1    0 2537]\n",
						" [   1    1    0 1027]\n",
						" [   0    1    0  445]]\n",
						"[0 0 1 0 1 0 0 0 0 1 0 0]\n"
					]
				}
			],
			"source": [
				"y_pred = knn.predict(X_test)\n",
				"print(X_test)\n",
				"print(y_pred)"
			]
		},
		{
			"cell_type": "markdown",
			"metadata": {},
			"source": [
				"***TEST SIR DATASET***"
			]
		},
		{
			"cell_type": "code",
			"execution_count": 200,
			"metadata": {},
			"outputs": [
				{
					"name": "stdout",
					"output_type": "stream",
					"text": [
						"Personality: Introvert\n"
					]
				}
			],
			"source": [
				"test = knn.predict([[0, 1, 0, 1000]])\n",
				"print(f\"Personality: {\"Introvert\" if test[0] == 0 else \"Extrovert\"}\")"
			]
		},
		{
			"cell_type": "markdown",
			"metadata": {
				"id": "-ykdOOfoo8Qz"
			},
			"source": [
				"## Evaluate the model"
			]
		},
		{
			"cell_type": "markdown",
			"metadata": {
				"id": "VL_iWAmLpa3T"
			},
			"source": [
				"9. Create a confusion matrix"
			]
		},
		{
			"cell_type": "code",
			"execution_count": 201,
			"metadata": {
				"id": "w9sRY_71XzR3"
			},
			"outputs": [
				{
					"data": {
						"text/plain": [
							"<sklearn.metrics._plot.confusion_matrix.ConfusionMatrixDisplay at 0x20361aff4d0>"
						]
					},
					"execution_count": 201,
					"metadata": {},
					"output_type": "execute_result"
				},
				{
					"data": {
						"image/png": "[encoded data removed]",
						"text/plain": [
							"<Figure size 640x480 with 2 Axes>"
						]
					},
					"metadata": {},
					"output_type": "display_data"
				}
			],
			"source": [
				"conf_matrix = confusion_matrix(y_pred, y_test, labels=knn.classes_)\n",
				"\n",
				"disp = ConfusionMatrixDisplay(confusion_matrix=conf_matrix,\n",
				"                              display_labels=knn.classes_)\n",
				"\n",
				"disp.plot()"
			]
		},
		{
			"cell_type": "markdown",
			"metadata": {
				"id": "a869sLN1srbH"
			},
			"source": [
				"10. Display the accuracy"
			]
		},
		{
			"cell_type": "code",
			"execution_count": 202,
			"metadata": {
				"id": "6KWRq87Qs01v"
			},
			"outputs": [
				{
					"data": {
						"text/plain": [
							"0.6666666666666666"
						]
					},
					"execution_count": 202,
					"metadata": {},
					"output_type": "execute_result"
				}
			],
			"source": [
				"metrics.accuracy_score(y_test, y_pred)"
			]
		},
		{
			"cell_type": "markdown",
			"metadata": {
				"id": "TmJZhC8Jstp-"
			},
			"source": [
				"11. Display the precision"
			]
		},
		{
			"cell_type": "code",
			"execution_count": 203,
			"metadata": {
				"id": "C19ePb5Os1N0"
			},
			"outputs": [
				{
					"name": "stdout",
					"output_type": "stream",
					"text": [
						"Precision: [0.55555556 1.        ]\n"
					]
				}
			],
			"source": [
				"precision = precision_score(y_test, y_pred, average=None)\n",
				"print(f\"Precision: {precision}\")"
			]
		},
		{
			"cell_type": "markdown",
			"metadata": {
				"id": "gUy5spuhsvVx"
			},
			"source": [
				"12. Display the recall"
			]
		},
		{
			"cell_type": "code",
			"execution_count": 204,
			"metadata": {
				"id": "iqym3xvms139"
			},
			"outputs": [
				{
					"name": "stdout",
					"output_type": "stream",
					"text": [
						"Recall: [1.         0.42857143]\n"
					]
				}
			],
			"source": [
				"recall = recall_score(y_test, y_pred, average=None)\n",
				"print(f\"Recall: {recall}\")"
			]
		},
		{
			"cell_type": "markdown",
			"metadata": {
				"id": "mbQJQG3fsxVJ"
			},
			"source": [
				"13. Display the f1-score"
			]
		},
		{
			"cell_type": "code",
			"execution_count": 205,
			"metadata": {
				"id": "YvBGhAzPs2ht"
			},
			"outputs": [
				{
					"name": "stdout",
					"output_type": "stream",
					"text": [
						"F1: [0.71428571 0.6       ]\n"
					]
				}
			],
			"source": [
				"f1 = f1_score(y_test, y_pred, average=None)\n",
				"print(f\"F1: {f1}\")"
			]
		}
	],
	"metadata": {
		"colab": {
			"authorship_tag": "ABX9TyPLbmfGIS460appLxlK0k5J",
			"include_colab_link": true,
			"provenance": []
		},
		"kernelspec": {
			"display_name": "Python 3",
			"name": "python3"
		},
		"language_info": {
			"codemirror_mode": {
				"name": "ipython",
				"version": 3
			},
			"file_extension": ".py",
			"mimetype": "text/x-python",
			"name": "python",
			"nbconvert_exporter": "python",
			"pygments_lexer": "ipython3",
			"version": "3.12.5"
		}
	},
	"nbformat": 4,
	"nbformat_minor": 0
}
